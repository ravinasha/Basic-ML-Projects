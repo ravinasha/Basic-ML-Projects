{
  "nbformat": 4,
  "nbformat_minor": 0,
  "metadata": {
    "colab": {
      "provenance": [],
      "authorship_tag": "ABX9TyO1AfasSyN6+pOYAorq73OJ",
      "include_colab_link": true
    },
    "kernelspec": {
      "name": "python3",
      "display_name": "Python 3"
    },
    "language_info": {
      "name": "python"
    }
  },
  "cells": [
    {
      "cell_type": "markdown",
      "metadata": {
        "id": "view-in-github",
        "colab_type": "text"
      },
      "source": [
        "<a href=\"https://colab.research.google.com/github/ravinasha/mac/blob/main/embedding_in_rnn.ipynb\" target=\"_parent\"><img src=\"https://colab.research.google.com/assets/colab-badge.svg\" alt=\"Open In Colab\"/></a>"
      ]
    },
    {
      "cell_type": "code",
      "execution_count": 1,
      "metadata": {
        "id": "r5xYf9STkFCD"
      },
      "outputs": [],
      "source": [
        "docs = ['go india',\n",
        "\t\t'india india',\n",
        "\t\t'hip hip hurray',\n",
        "\t\t'jeetega bhai jeetega india jeetega',\n",
        "\t\t'bharat mata ki jai',\n",
        "\t\t'kohli kohli',\n",
        "\t\t'sachin sachin',\n",
        "\t\t'dhoni dhoni',\n",
        "\t\t'modi ji ki jai',\n",
        "\t\t'inquilab zindabad']"
      ]
    },
    {
      "cell_type": "code",
      "source": [
        "from keras.preprocessing.text import Tokenizer\n",
        "tokenizer = Tokenizer()"
      ],
      "metadata": {
        "id": "daXycQ95kIyB"
      },
      "execution_count": 2,
      "outputs": []
    },
    {
      "cell_type": "code",
      "source": [
        "tokenizer.fit_on_texts(docs)"
      ],
      "metadata": {
        "id": "jze5A-jXkNpm"
      },
      "execution_count": 3,
      "outputs": []
    },
    {
      "cell_type": "code",
      "source": [
        "len(tokenizer.word_index)"
      ],
      "metadata": {
        "colab": {
          "base_uri": "https://localhost:8080/"
        },
        "id": "nEzZyVCmkNmM",
        "outputId": "cb66f4aa-97cf-4fad-8d2a-43ddbe0227eb"
      },
      "execution_count": 4,
      "outputs": [
        {
          "output_type": "execute_result",
          "data": {
            "text/plain": [
              "17"
            ]
          },
          "metadata": {},
          "execution_count": 4
        }
      ]
    },
    {
      "cell_type": "code",
      "source": [
        "sequences = tokenizer.texts_to_sequences(docs)\n",
        "sequences"
      ],
      "metadata": {
        "colab": {
          "base_uri": "https://localhost:8080/"
        },
        "id": "PErkW2KhkNjJ",
        "outputId": "c2ec665d-8a9f-4766-b015-fc8fdcfa6f7b"
      },
      "execution_count": 5,
      "outputs": [
        {
          "output_type": "execute_result",
          "data": {
            "text/plain": [
              "[[9, 1],\n",
              " [1, 1],\n",
              " [3, 3, 10],\n",
              " [2, 11, 2, 1, 2],\n",
              " [12, 13, 4, 5],\n",
              " [6, 6],\n",
              " [7, 7],\n",
              " [8, 8],\n",
              " [14, 15, 4, 5],\n",
              " [16, 17]]"
            ]
          },
          "metadata": {},
          "execution_count": 5
        }
      ]
    },
    {
      "cell_type": "code",
      "source": [
        "from keras.utils import pad_sequences\n",
        "sequences = pad_sequences(sequences,padding='post')\n",
        "sequences"
      ],
      "metadata": {
        "colab": {
          "base_uri": "https://localhost:8080/"
        },
        "id": "6LFW3hm1kNgA",
        "outputId": "a18983a0-7f1b-4682-e94c-9e96a8ef67a4"
      },
      "execution_count": 6,
      "outputs": [
        {
          "output_type": "execute_result",
          "data": {
            "text/plain": [
              "array([[ 9,  1,  0,  0,  0],\n",
              "       [ 1,  1,  0,  0,  0],\n",
              "       [ 3,  3, 10,  0,  0],\n",
              "       [ 2, 11,  2,  1,  2],\n",
              "       [12, 13,  4,  5,  0],\n",
              "       [ 6,  6,  0,  0,  0],\n",
              "       [ 7,  7,  0,  0,  0],\n",
              "       [ 8,  8,  0,  0,  0],\n",
              "       [14, 15,  4,  5,  0],\n",
              "       [16, 17,  0,  0,  0]], dtype=int32)"
            ]
          },
          "metadata": {},
          "execution_count": 6
        }
      ]
    },
    {
      "cell_type": "code",
      "source": [
        "from keras.models import Sequential\n",
        "from keras.layers import Embedding\n",
        "\n",
        "model = Sequential()\n",
        "model.add(Embedding(input_dim=17, output_dim=2, input_length=5))\n",
        "\n",
        "model.summary()\n"
      ],
      "metadata": {
        "colab": {
          "base_uri": "https://localhost:8080/"
        },
        "id": "p2qCnoMFkNdb",
        "outputId": "8acb68b0-7ae1-44e0-bd95-9284c4daf422"
      },
      "execution_count": 9,
      "outputs": [
        {
          "output_type": "stream",
          "name": "stdout",
          "text": [
            "Model: \"sequential\"\n",
            "_________________________________________________________________\n",
            " Layer (type)                Output Shape              Param #   \n",
            "=================================================================\n",
            " embedding (Embedding)       (None, 5, 2)              34        \n",
            "                                                                 \n",
            "=================================================================\n",
            "Total params: 34 (136.00 Byte)\n",
            "Trainable params: 34 (136.00 Byte)\n",
            "Non-trainable params: 0 (0.00 Byte)\n",
            "_________________________________________________________________\n"
          ]
        }
      ]
    },
    {
      "cell_type": "code",
      "source": [
        "model.compile('adam','accuracy')"
      ],
      "metadata": {
        "id": "-iHexiF0kd5V"
      },
      "execution_count": 10,
      "outputs": []
    },
    {
      "cell_type": "code",
      "source": [
        "import numpy as np\n",
        "\n",
        "# Example input sequences\n",
        "sequences = np.array([\n",
        "    [0, 1, 2, 3, 4],\n",
        "    [5, 6, 7, 8, 9],\n",
        "    [10, 11, 12, 13, 14],\n",
        "    [15, 16, 17, 17, 17]  # This sequence contains invalid indices\n",
        "])\n",
        "\n",
        "# Clamping the values to be within the valid range [0, 16]\n",
        "sequences = np.clip(sequences, 0, 16)\n",
        "\n",
        "# Now predict using the sanitized sequences\n",
        "pred = model.predict(sequences)\n",
        "print(pred)\n"
      ],
      "metadata": {
        "colab": {
          "base_uri": "https://localhost:8080/"
        },
        "id": "SsfUBsSqkd1z",
        "outputId": "fbd4f335-7c6c-4c01-8fea-2c2225d4cb33"
      },
      "execution_count": 12,
      "outputs": [
        {
          "output_type": "stream",
          "name": "stdout",
          "text": [
            "1/1 [==============================] - 0s 46ms/step\n",
            "[[[ 0.03865721  0.03931599]\n",
            "  [ 0.02728136  0.02951945]\n",
            "  [ 0.0252508   0.04794214]\n",
            "  [ 0.02891773  0.03300823]\n",
            "  [ 0.0204661   0.04159386]]\n",
            "\n",
            " [[-0.04119104 -0.04059808]\n",
            "  [-0.0471501   0.04211609]\n",
            "  [-0.00025433 -0.04800048]\n",
            "  [-0.01456873  0.0494017 ]\n",
            "  [ 0.00586158  0.01259717]]\n",
            "\n",
            " [[ 0.01412246 -0.0400728 ]\n",
            "  [-0.00865778 -0.043476  ]\n",
            "  [-0.01747532  0.01323735]\n",
            "  [ 0.00852964 -0.03422325]\n",
            "  [ 0.04161345 -0.00860014]]\n",
            "\n",
            " [[-0.02720798  0.04910043]\n",
            "  [ 0.01119341  0.02938596]\n",
            "  [ 0.01119341  0.02938596]\n",
            "  [ 0.01119341  0.02938596]\n",
            "  [ 0.01119341  0.02938596]]]\n"
          ]
        }
      ]
    },
    {
      "cell_type": "code",
      "source": [
        "from keras.datasets import imdb\n",
        "from keras.preprocessing.text import Tokenizer\n",
        "from keras.utils import pad_sequences\n",
        "from keras import Sequential\n",
        "from keras.layers import Dense,SimpleRNN,Embedding,Flatten"
      ],
      "metadata": {
        "id": "xFQrU3g-kdy7"
      },
      "execution_count": 13,
      "outputs": []
    },
    {
      "cell_type": "code",
      "source": [
        "(X_train,y_train),(X_test,y_test) = imdb.load_data()"
      ],
      "metadata": {
        "colab": {
          "base_uri": "https://localhost:8080/"
        },
        "id": "Jg6TFDFwlLJk",
        "outputId": "bff78455-423d-4593-94b5-a6f72152f980"
      },
      "execution_count": 14,
      "outputs": [
        {
          "output_type": "stream",
          "name": "stdout",
          "text": [
            "Downloading data from https://storage.googleapis.com/tensorflow/tf-keras-datasets/imdb.npz\n",
            "17464789/17464789 [==============================] - 0s 0us/step\n"
          ]
        }
      ]
    },
    {
      "cell_type": "code",
      "source": [
        "X_train = pad_sequences(X_train,padding='post',maxlen=50)\n",
        "X_test = pad_sequences(X_test,padding='post',maxlen=50)"
      ],
      "metadata": {
        "id": "pFla5chGlLGO"
      },
      "execution_count": 15,
      "outputs": []
    },
    {
      "cell_type": "code",
      "source": [
        "X_train.shape"
      ],
      "metadata": {
        "colab": {
          "base_uri": "https://localhost:8080/"
        },
        "id": "5m_5ggrPlLD-",
        "outputId": "6b92016d-51c6-4eee-d63e-08f7b94dba30"
      },
      "execution_count": 16,
      "outputs": [
        {
          "output_type": "execute_result",
          "data": {
            "text/plain": [
              "(25000, 50)"
            ]
          },
          "metadata": {},
          "execution_count": 16
        }
      ]
    },
    {
      "cell_type": "code",
      "source": [
        "from keras.models import Sequential\n",
        "from keras.layers import Embedding, SimpleRNN, Dense\n",
        "\n",
        "model = Sequential()\n",
        "model.add(Embedding(input_dim=10000, output_dim=2, input_length=50))\n",
        "model.add(SimpleRNN(32, return_sequences=False))\n",
        "model.add(Dense(1, activation='sigmoid'))\n",
        "\n",
        "model.summary()\n"
      ],
      "metadata": {
        "colab": {
          "base_uri": "https://localhost:8080/"
        },
        "id": "a0mfvYKdlLBN",
        "outputId": "99151065-e137-4b12-d863-4808be365f52"
      },
      "execution_count": 18,
      "outputs": [
        {
          "output_type": "stream",
          "name": "stdout",
          "text": [
            "Model: \"sequential_2\"\n",
            "_________________________________________________________________\n",
            " Layer (type)                Output Shape              Param #   \n",
            "=================================================================\n",
            " embedding_2 (Embedding)     (None, 50, 2)             20000     \n",
            "                                                                 \n",
            " simple_rnn (SimpleRNN)      (None, 32)                1120      \n",
            "                                                                 \n",
            " dense (Dense)               (None, 1)                 33        \n",
            "                                                                 \n",
            "=================================================================\n",
            "Total params: 21153 (82.63 KB)\n",
            "Trainable params: 21153 (82.63 KB)\n",
            "Non-trainable params: 0 (0.00 Byte)\n",
            "_________________________________________________________________\n"
          ]
        }
      ]
    },
    {
      "cell_type": "code",
      "source": [
        "from keras.preprocessing.sequence import pad_sequences\n",
        "import numpy as np\n",
        "\n",
        "# Example sequences (replace with your actual data)\n",
        "X_train = [\n",
        "    [1, 2, 3, 4, 5, 9999],\n",
        "    [6, 7, 8, 9, 10, 11]\n",
        "    # Add more sequences as needed\n",
        "]\n",
        "\n",
        "X_test = [\n",
        "    [1, 2, 3, 4, 5, 9999],\n",
        "    [6, 7, 8, 9, 10, 11]\n",
        "    # Add more sequences as needed\n",
        "]\n",
        "\n",
        "# Padding or truncating sequences to length 50\n",
        "X_train = pad_sequences(X_train, maxlen=50, padding='post', truncating='post')\n",
        "X_test = pad_sequences(X_test, maxlen=50, padding='post', truncating='post')\n",
        "\n",
        "# Ensure y_train and y_test are correctly defined (example)\n",
        "y_train = np.array([0, 1])  # Adjust to match the length of X_train\n",
        "y_test = np.array([1, 0])   # Adjust to match the length of X_test\n",
        "\n",
        "# Check the shapes of the arrays to confirm they match\n",
        "print(\"X_train shape:\", X_train.shape)  # Should be (num_samples, 50)\n",
        "print(\"y_train shape:\", y_train.shape)\n",
        "print(\"X_test shape:\", X_test.shape)    # Should be (num_samples, 50)\n",
        "print(\"y_test shape:\", y_test.shape)\n",
        "\n",
        "# Compile the model\n",
        "model.compile(optimizer='adam', loss='binary_crossentropy', metrics=['acc'])\n",
        "\n",
        "# Fit the model\n",
        "history = model.fit(X_train, y_train, epochs=5, validation_data=(X_test, y_test))\n"
      ],
      "metadata": {
        "colab": {
          "base_uri": "https://localhost:8080/"
        },
        "id": "gFCGaTK6lK-a",
        "outputId": "465ebeb0-dc75-40f5-964d-52acedfd3ffd"
      },
      "execution_count": 23,
      "outputs": [
        {
          "output_type": "stream",
          "name": "stdout",
          "text": [
            "X_train shape: (2, 50)\n",
            "y_train shape: (2,)\n",
            "X_test shape: (2, 50)\n",
            "y_test shape: (2,)\n",
            "Epoch 1/5\n",
            "1/1 [==============================] - 4s 4s/step - loss: 0.6870 - acc: 0.5000 - val_loss: 0.7190 - val_acc: 0.0000e+00\n",
            "Epoch 2/5\n",
            "1/1 [==============================] - 0s 90ms/step - loss: 0.6681 - acc: 1.0000 - val_loss: 0.7440 - val_acc: 0.0000e+00\n",
            "Epoch 3/5\n",
            "1/1 [==============================] - 0s 58ms/step - loss: 0.6449 - acc: 1.0000 - val_loss: 0.7803 - val_acc: 0.0000e+00\n",
            "Epoch 4/5\n",
            "1/1 [==============================] - 0s 70ms/step - loss: 0.6131 - acc: 1.0000 - val_loss: 0.8429 - val_acc: 0.0000e+00\n",
            "Epoch 5/5\n",
            "1/1 [==============================] - 0s 84ms/step - loss: 0.5638 - acc: 1.0000 - val_loss: 0.9502 - val_acc: 0.0000e+00\n"
          ]
        }
      ]
    }
  ]
}