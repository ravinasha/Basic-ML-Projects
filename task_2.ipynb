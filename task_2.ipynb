{
  "cells": [
    {
      "cell_type": "markdown",
      "id": "742f5599",
      "metadata": {
        "id": "742f5599"
      },
      "source": [
        "# Task 2: Implementing a Simple Linear Regression Model\n",
        "\n",
        "Purpose: The purpose of this task is to build a basic linear regression model to predict a target variable using a dataset with a numeric predictor and target variable.\n",
        "\n",
        "Dataset Selection:\n",
        "I will use the \"Boston Housing\" dataset, which contains various features related to housing in Boston, and the goal is to predict the median value of owner-occupied homes in $1000s.\n",
        "\n",
        "Data Preparation:\n",
        "Let's start by preparing the data."
      ]
    },
    {
      "cell_type": "code",
      "execution_count": null,
      "id": "928a3eeb",
      "metadata": {
        "id": "928a3eeb"
      },
      "outputs": [],
      "source": [
        "import numpy as np\n",
        "import pandas as pd\n",
        "from sklearn.model_selection import train_test_split\n",
        "from sklearn.linear_model import LinearRegression\n",
        "from sklearn.metrics import mean_squared_error, r2_score\n",
        "import matplotlib.pyplot as plt\n",
        "\n",
        "from sklearn.datasets import load_boston\n",
        "boston = load_boston()\n",
        "df = pd.DataFrame(boston.data, columns=boston.feature_names)\n",
        "\n",
        "df['MEDV'] = boston.target\n",
        "\n",
        "\n",
        "X = df[['RM']]\n",
        "y = df['MEDV']"
      ]
    },
    {
      "cell_type": "markdown",
      "id": "7e4e5f5c",
      "metadata": {
        "id": "7e4e5f5c"
      },
      "source": [
        "# Data Splitting:\n",
        "We will divide the dataset into a training set and a testing set using the `train_test_split` function from scikit-learn.\n"
      ]
    },
    {
      "cell_type": "code",
      "execution_count": null,
      "id": "e114c357",
      "metadata": {
        "id": "e114c357"
      },
      "outputs": [],
      "source": [
        "X_train, X_test, y_train, y_test = train_test_split(X, y, test_size=0.2, random_state=42)"
      ]
    },
    {
      "cell_type": "markdown",
      "id": "1485ddfe",
      "metadata": {
        "id": "1485ddfe"
      },
      "source": [
        "# Model Creation:\n",
        "Next, we create a linear regression model using scikit-learn's `LinearRegression` class.\n"
      ]
    },
    {
      "cell_type": "code",
      "execution_count": null,
      "id": "c094000b",
      "metadata": {
        "id": "c094000b"
      },
      "outputs": [],
      "source": [
        "model = LinearRegression()"
      ]
    },
    {
      "cell_type": "markdown",
      "id": "feaab827",
      "metadata": {
        "id": "feaab827"
      },
      "source": [
        "# Model Training:\n",
        "We will train the linear regression model using the training data.\n"
      ]
    },
    {
      "cell_type": "code",
      "execution_count": null,
      "id": "98edeb06",
      "metadata": {
        "id": "98edeb06"
      },
      "outputs": [],
      "source": [
        "model.fit(X_train, y_train)"
      ]
    },
    {
      "cell_type": "markdown",
      "id": "7bdee977",
      "metadata": {
        "id": "7bdee977"
      },
      "source": [
        "# Prediction:\n",
        "Now, we will use the trained model to make predictions on the testing data.\n"
      ]
    },
    {
      "cell_type": "code",
      "execution_count": null,
      "id": "9652b0da",
      "metadata": {
        "id": "9652b0da"
      },
      "outputs": [],
      "source": [
        "y_pred = model.predict(X_test)"
      ]
    },
    {
      "cell_type": "markdown",
      "id": "94997028",
      "metadata": {
        "id": "94997028"
      },
      "source": [
        "# Model Evaluation:\n",
        "We calculate the mean squared error (MSE) and R-squared (R2) score to evaluate the model's performance.\n"
      ]
    },
    {
      "cell_type": "code",
      "execution_count": null,
      "id": "0aa7e0cb",
      "metadata": {
        "id": "0aa7e0cb"
      },
      "outputs": [],
      "source": [
        "mse = mean_squared_error(y_test, y_pred)\n",
        "\n",
        "r2 = r2_score(y_test, y_pred)\n",
        "print(f\"Mean Squared Error (MSE): {mse:.2f}\")\n",
        "print(f\"R-squared (R2): {r2:.2f}\")"
      ]
    },
    {
      "cell_type": "markdown",
      "id": "3c962413",
      "metadata": {
        "id": "3c962413"
      },
      "source": [
        "# Visualization (Optional):\n",
        "Optionally, we can create a scatter plot with the regression line to visualize the model's fit.\n"
      ]
    },
    {
      "cell_type": "code",
      "execution_count": null,
      "id": "a0986b1b",
      "metadata": {
        "id": "a0986b1b"
      },
      "outputs": [],
      "source": [
        "plt.scatter(X_test, y_test, color='blue')\n",
        "plt.plot(X_test, y_pred, color='red', linewidth=2)\n",
        "plt.xlabel(\"Average Number of Rooms (RM)\")\n",
        "plt.ylabel(\"Median Value of Homes (MEDV)\")\n",
        "plt.title(\"Linear Regression: RM vs. MEDV\")\n",
        "plt.show()"
      ]
    },
    {
      "cell_type": "markdown",
      "id": "f1f6aded",
      "metadata": {
        "id": "f1f6aded"
      },
      "source": [
        "# Documentation:\n",
        "- Dataset Used: Boston Housing dataset (numeric predictor - RM, and target variable - MEDV).\n",
        "- Steps Taken: Data preparation, data splitting, model creation (linear regression), model training, prediction, model evaluation (MSE and R2), and optional visualization.\n",
        "- Model's Performance: The model achieved an MSE of [MSE Value] and an R-squared of [R2 Value], indicating [description of model performance]."
      ]
    },
    {
      "cell_type": "code",
      "execution_count": null,
      "id": "f0ef7794",
      "metadata": {
        "id": "f0ef7794"
      },
      "outputs": [],
      "source": []
    }
  ],
  "metadata": {
    "kernelspec": {
      "display_name": "Python 3 (ipykernel)",
      "language": "python",
      "name": "python3"
    },
    "language_info": {
      "codemirror_mode": {
        "name": "ipython",
        "version": 3
      },
      "file_extension": ".py",
      "mimetype": "text/x-python",
      "name": "python",
      "nbconvert_exporter": "python",
      "pygments_lexer": "ipython3",
      "version": "3.10.11"
    },
    "colab": {
      "provenance": []
    }
  },
  "nbformat": 4,
  "nbformat_minor": 5
}