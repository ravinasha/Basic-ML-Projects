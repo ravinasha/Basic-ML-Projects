{
  "nbformat": 4,
  "nbformat_minor": 0,
  "metadata": {
    "colab": {
      "provenance": [],
      "authorship_tag": "ABX9TyPYJiWvRcBG+X52noduyD6h",
      "include_colab_link": true
    },
    "kernelspec": {
      "name": "python3",
      "display_name": "Python 3"
    },
    "language_info": {
      "name": "python"
    }
  },
  "cells": [
    {
      "cell_type": "markdown",
      "metadata": {
        "id": "view-in-github",
        "colab_type": "text"
      },
      "source": [
        "<a href=\"https://colab.research.google.com/github/ravinasha/Basic-ML-Projects/blob/main/Deep_RNN.ipynb\" target=\"_parent\"><img src=\"https://colab.research.google.com/assets/colab-badge.svg\" alt=\"Open In Colab\"/></a>"
      ]
    },
    {
      "cell_type": "code",
      "execution_count": null,
      "metadata": {
        "id": "jL4_ZEkkiMMm"
      },
      "outputs": [],
      "source": [
        "import tensorflow as tf\n",
        "from tensorflow.keras.datasets import imdb\n",
        "from tensorflow.keras.preprocessing.sequence import pad_sequences\n",
        "from tensorflow.keras.models import Sequential\n",
        "from tensorflow.keras.layers import Embedding, SimpleRNN, Dense,LSTM,GRU"
      ]
    },
    {
      "cell_type": "code",
      "source": [
        "\n",
        "(x_train, y_train), (x_test, y_test) = imdb.load_data(num_words=10000)\n",
        "\n",
        "x_train = pad_sequences(x_train, maxlen=100)\n",
        "x_test = pad_sequences(x_test, maxlen=100)"
      ],
      "metadata": {
        "colab": {
          "base_uri": "https://localhost:8080/"
        },
        "id": "hwJJg14nioCr",
        "outputId": "33706319-85a7-489d-a312-b52c8576449c"
      },
      "execution_count": null,
      "outputs": [
        {
          "output_type": "stream",
          "name": "stdout",
          "text": [
            "Downloading data from https://storage.googleapis.com/tensorflow/tf-keras-datasets/imdb.npz\n",
            "17464789/17464789 [==============================] - 0s 0us/step\n"
          ]
        }
      ]
    },
    {
      "cell_type": "code",
      "source": [
        "model = Sequential([\n",
        "    Embedding(10000, 32, input_length=100),\n",
        "    SimpleRNN(5, return_sequences=True),\n",
        "    SimpleRNN(5),\n",
        "    Dense(1, activation='sigmoid')\n",
        "])\n",
        "\n",
        "model.summary()"
      ],
      "metadata": {
        "colab": {
          "base_uri": "https://localhost:8080/"
        },
        "id": "qbaRI4rbiqOy",
        "outputId": "f4788fd9-5854-460e-cecb-e3d5a34aaced"
      },
      "execution_count": null,
      "outputs": [
        {
          "output_type": "stream",
          "name": "stdout",
          "text": [
            "Model: \"sequential\"\n",
            "_________________________________________________________________\n",
            " Layer (type)                Output Shape              Param #   \n",
            "=================================================================\n",
            " embedding (Embedding)       (None, 100, 32)           320000    \n",
            "                                                                 \n",
            " simple_rnn (SimpleRNN)      (None, 100, 5)            190       \n",
            "                                                                 \n",
            " simple_rnn_1 (SimpleRNN)    (None, 5)                 55        \n",
            "                                                                 \n",
            " dense (Dense)               (None, 1)                 6         \n",
            "                                                                 \n",
            "=================================================================\n",
            "Total params: 320251 (1.22 MB)\n",
            "Trainable params: 320251 (1.22 MB)\n",
            "Non-trainable params: 0 (0.00 Byte)\n",
            "_________________________________________________________________\n"
          ]
        }
      ]
    },
    {
      "cell_type": "code",
      "source": [
        "model = Sequential([\n",
        "    Embedding(10000, 32, input_length=100),\n",
        "    LSTM(5, return_sequences=True),\n",
        "    LSTM(5),\n",
        "    Dense(1, activation='sigmoid')\n",
        "])\n",
        "\n",
        "model.summary()"
      ],
      "metadata": {
        "colab": {
          "base_uri": "https://localhost:8080/"
        },
        "id": "Qtd5EhvRiydR",
        "outputId": "32038ab0-1143-4144-d780-2fc43fa16d1f"
      },
      "execution_count": null,
      "outputs": [
        {
          "output_type": "stream",
          "name": "stdout",
          "text": [
            "Model: \"sequential_1\"\n",
            "_________________________________________________________________\n",
            " Layer (type)                Output Shape              Param #   \n",
            "=================================================================\n",
            " embedding_1 (Embedding)     (None, 100, 32)           320000    \n",
            "                                                                 \n",
            " lstm (LSTM)                 (None, 100, 5)            760       \n",
            "                                                                 \n",
            " lstm_1 (LSTM)               (None, 5)                 220       \n",
            "                                                                 \n",
            " dense_1 (Dense)             (None, 1)                 6         \n",
            "                                                                 \n",
            "=================================================================\n",
            "Total params: 320986 (1.22 MB)\n",
            "Trainable params: 320986 (1.22 MB)\n",
            "Non-trainable params: 0 (0.00 Byte)\n",
            "_________________________________________________________________\n"
          ]
        }
      ]
    },
    {
      "cell_type": "code",
      "source": [
        "model.compile(optimizer='adam', loss='binary_crossentropy', metrics=['accuracy'])"
      ],
      "metadata": {
        "id": "0jHqP3xLi3HU"
      },
      "execution_count": null,
      "outputs": []
    },
    {
      "cell_type": "code",
      "source": [
        "history = model.fit(x_train, y_train, epochs=5, batch_size=32, validation_split=0.2)"
      ],
      "metadata": {
        "colab": {
          "base_uri": "https://localhost:8080/"
        },
        "id": "O0IcfG_5i5_N",
        "outputId": "d890ad6c-ef11-4c00-de36-3f2fa4762fdc"
      },
      "execution_count": null,
      "outputs": [
        {
          "output_type": "stream",
          "name": "stdout",
          "text": [
            "Epoch 1/5\n",
            "625/625 [==============================] - 49s 71ms/step - loss: 0.4806 - accuracy: 0.7697 - val_loss: 0.4070 - val_accuracy: 0.8216\n",
            "Epoch 2/5\n",
            "625/625 [==============================] - 43s 68ms/step - loss: 0.2930 - accuracy: 0.8832 - val_loss: 0.3602 - val_accuracy: 0.8420\n",
            "Epoch 3/5\n",
            "625/625 [==============================] - 43s 68ms/step - loss: 0.2053 - accuracy: 0.9270 - val_loss: 0.4237 - val_accuracy: 0.8342\n",
            "Epoch 4/5\n",
            "625/625 [==============================] - 44s 70ms/step - loss: 0.1469 - accuracy: 0.9498 - val_loss: 0.4738 - val_accuracy: 0.8288\n",
            "Epoch 5/5\n",
            "625/625 [==============================] - 41s 66ms/step - loss: 0.1029 - accuracy: 0.9689 - val_loss: 0.5383 - val_accuracy: 0.8202\n"
          ]
        }
      ]
    },
    {
      "cell_type": "code",
      "source": [],
      "metadata": {
        "id": "cIIEUnGEi8NX"
      },
      "execution_count": null,
      "outputs": []
    }
  ]
}