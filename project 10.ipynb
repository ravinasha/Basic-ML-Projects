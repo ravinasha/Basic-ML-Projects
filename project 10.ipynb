{
 "cells": [
  {
   "cell_type": "code",
   "execution_count": 1,
   "id": "4ce914fa",
   "metadata": {},
   "outputs": [],
   "source": [
    "import pandas as pd"
   ]
  },
  {
   "cell_type": "code",
   "execution_count": 2,
   "id": "b5553f79",
   "metadata": {},
   "outputs": [],
   "source": [
    "import numpy as np"
   ]
  },
  {
   "cell_type": "code",
   "execution_count": 3,
   "id": "293af357",
   "metadata": {},
   "outputs": [],
   "source": [
    "import matplotlib.pyplot as plt"
   ]
  },
  {
   "cell_type": "code",
   "execution_count": 4,
   "id": "8bf2779b",
   "metadata": {},
   "outputs": [],
   "source": [
    "import seaborn as sns"
   ]
  },
  {
   "cell_type": "code",
   "execution_count": 5,
   "id": "3cca44fa",
   "metadata": {},
   "outputs": [],
   "source": [
    "matplotlib inline"
   ]
  },
  {
   "cell_type": "code",
   "execution_count": 6,
   "id": "9786d9b4",
   "metadata": {},
   "outputs": [],
   "source": [
    "df = pd.read_csv('test.csv')"
   ]
  },
  {
   "cell_type": "code",
   "execution_count": 7,
   "id": "45fe9f54",
   "metadata": {
    "scrolled": true
   },
   "outputs": [
    {
     "data": {
      "text/html": [
       "<div>\n",
       "<style scoped>\n",
       "    .dataframe tbody tr th:only-of-type {\n",
       "        vertical-align: middle;\n",
       "    }\n",
       "\n",
       "    .dataframe tbody tr th {\n",
       "        vertical-align: top;\n",
       "    }\n",
       "\n",
       "    .dataframe thead th {\n",
       "        text-align: right;\n",
       "    }\n",
       "</style>\n",
       "<table border=\"1\" class=\"dataframe\">\n",
       "  <thead>\n",
       "    <tr style=\"text-align: right;\">\n",
       "      <th></th>\n",
       "      <th>Dielectric Constant</th>\n",
       "      <th>Dielectric Height (mm)</th>\n",
       "      <th>Operational Frequency (GHz)</th>\n",
       "      <th>Width (mm)</th>\n",
       "      <th>length(mm)</th>\n",
       "    </tr>\n",
       "  </thead>\n",
       "  <tbody>\n",
       "    <tr>\n",
       "      <th>0</th>\n",
       "      <td>0.331</td>\n",
       "      <td>6.31</td>\n",
       "      <td>2.9</td>\n",
       "      <td>63.36</td>\n",
       "      <td>57.83</td>\n",
       "    </tr>\n",
       "    <tr>\n",
       "      <th>1</th>\n",
       "      <td>0.332</td>\n",
       "      <td>6.32</td>\n",
       "      <td>2.9</td>\n",
       "      <td>63.34</td>\n",
       "      <td>57.79</td>\n",
       "    </tr>\n",
       "    <tr>\n",
       "      <th>2</th>\n",
       "      <td>0.333</td>\n",
       "      <td>6.33</td>\n",
       "      <td>2.9</td>\n",
       "      <td>63.31</td>\n",
       "      <td>57.76</td>\n",
       "    </tr>\n",
       "    <tr>\n",
       "      <th>3</th>\n",
       "      <td>0.334</td>\n",
       "      <td>6.34</td>\n",
       "      <td>2.9</td>\n",
       "      <td>63.29</td>\n",
       "      <td>57.72</td>\n",
       "    </tr>\n",
       "    <tr>\n",
       "      <th>4</th>\n",
       "      <td>0.335</td>\n",
       "      <td>6.35</td>\n",
       "      <td>2.9</td>\n",
       "      <td>63.27</td>\n",
       "      <td>57.69</td>\n",
       "    </tr>\n",
       "  </tbody>\n",
       "</table>\n",
       "</div>"
      ],
      "text/plain": [
       "   Dielectric Constant  Dielectric Height (mm)  Operational Frequency (GHz)  \\\n",
       "0                0.331                    6.31                          2.9   \n",
       "1                0.332                    6.32                          2.9   \n",
       "2                0.333                    6.33                          2.9   \n",
       "3                0.334                    6.34                          2.9   \n",
       "4                0.335                    6.35                          2.9   \n",
       "\n",
       "   Width (mm)  length(mm)  \n",
       "0       63.36       57.83  \n",
       "1       63.34       57.79  \n",
       "2       63.31       57.76  \n",
       "3       63.29       57.72  \n",
       "4       63.27       57.69  "
      ]
     },
     "execution_count": 7,
     "metadata": {},
     "output_type": "execute_result"
    }
   ],
   "source": [
    "df.head()"
   ]
  },
  {
   "cell_type": "code",
   "execution_count": 8,
   "id": "a4b77446",
   "metadata": {},
   "outputs": [
    {
     "data": {
      "text/plain": [
       "Index(['Dielectric Constant', 'Dielectric Height (mm)',\n",
       "       'Operational Frequency (GHz)', 'Width (mm)', 'length(mm)'],\n",
       "      dtype='object')"
      ]
     },
     "execution_count": 8,
     "metadata": {},
     "output_type": "execute_result"
    }
   ],
   "source": [
    "df.columns"
   ]
  },
  {
   "cell_type": "code",
   "execution_count": 9,
   "id": "40246b96",
   "metadata": {},
   "outputs": [
    {
     "name": "stdout",
     "output_type": "stream",
     "text": [
      "<class 'pandas.core.frame.DataFrame'>\n",
      "RangeIndex: 1669 entries, 0 to 1668\n",
      "Data columns (total 5 columns):\n",
      " #   Column                       Non-Null Count  Dtype  \n",
      "---  ------                       --------------  -----  \n",
      " 0   Dielectric Constant          1669 non-null   float64\n",
      " 1   Dielectric Height (mm)       1669 non-null   float64\n",
      " 2   Operational Frequency (GHz)  1669 non-null   float64\n",
      " 3   Width (mm)                   1669 non-null   float64\n",
      " 4   length(mm)                   1648 non-null   float64\n",
      "dtypes: float64(5)\n",
      "memory usage: 65.3 KB\n"
     ]
    }
   ],
   "source": [
    "df.info()"
   ]
  },
  {
   "cell_type": "code",
   "execution_count": 10,
   "id": "c2a7cca6",
   "metadata": {
    "scrolled": true
   },
   "outputs": [
    {
     "data": {
      "text/html": [
       "<div>\n",
       "<style scoped>\n",
       "    .dataframe tbody tr th:only-of-type {\n",
       "        vertical-align: middle;\n",
       "    }\n",
       "\n",
       "    .dataframe tbody tr th {\n",
       "        vertical-align: top;\n",
       "    }\n",
       "\n",
       "    .dataframe thead th {\n",
       "        text-align: right;\n",
       "    }\n",
       "</style>\n",
       "<table border=\"1\" class=\"dataframe\">\n",
       "  <thead>\n",
       "    <tr style=\"text-align: right;\">\n",
       "      <th></th>\n",
       "      <th>Dielectric Constant</th>\n",
       "      <th>Dielectric Height (mm)</th>\n",
       "      <th>Operational Frequency (GHz)</th>\n",
       "      <th>Width (mm)</th>\n",
       "      <th>length(mm)</th>\n",
       "    </tr>\n",
       "  </thead>\n",
       "  <tbody>\n",
       "    <tr>\n",
       "      <th>count</th>\n",
       "      <td>1669.000000</td>\n",
       "      <td>1669.000000</td>\n",
       "      <td>1669.000000</td>\n",
       "      <td>1669.000000</td>\n",
       "      <td>1648.000000</td>\n",
       "    </tr>\n",
       "    <tr>\n",
       "      <th>mean</th>\n",
       "      <td>0.566438</td>\n",
       "      <td>4.415129</td>\n",
       "      <td>2.750869</td>\n",
       "      <td>62.550222</td>\n",
       "      <td>71.354630</td>\n",
       "    </tr>\n",
       "    <tr>\n",
       "      <th>std</th>\n",
       "      <td>0.267249</td>\n",
       "      <td>2.676170</td>\n",
       "      <td>0.171695</td>\n",
       "      <td>7.022016</td>\n",
       "      <td>76.797122</td>\n",
       "    </tr>\n",
       "    <tr>\n",
       "      <th>min</th>\n",
       "      <td>0.001000</td>\n",
       "      <td>0.010000</td>\n",
       "      <td>2.500000</td>\n",
       "      <td>45.330000</td>\n",
       "      <td>2.800000</td>\n",
       "    </tr>\n",
       "    <tr>\n",
       "      <th>25%</th>\n",
       "      <td>0.374000</td>\n",
       "      <td>2.090000</td>\n",
       "      <td>2.600000</td>\n",
       "      <td>57.310000</td>\n",
       "      <td>52.900000</td>\n",
       "    </tr>\n",
       "    <tr>\n",
       "      <th>50%</th>\n",
       "      <td>0.583000</td>\n",
       "      <td>4.180000</td>\n",
       "      <td>2.800000</td>\n",
       "      <td>61.680000</td>\n",
       "      <td>58.125000</td>\n",
       "    </tr>\n",
       "    <tr>\n",
       "      <th>75%</th>\n",
       "      <td>0.791000</td>\n",
       "      <td>6.920000</td>\n",
       "      <td>2.900000</td>\n",
       "      <td>66.870000</td>\n",
       "      <td>65.062500</td>\n",
       "    </tr>\n",
       "    <tr>\n",
       "      <th>max</th>\n",
       "      <td>1.000000</td>\n",
       "      <td>9.000000</td>\n",
       "      <td>3.000000</td>\n",
       "      <td>84.370000</td>\n",
       "      <td>2177.000000</td>\n",
       "    </tr>\n",
       "  </tbody>\n",
       "</table>\n",
       "</div>"
      ],
      "text/plain": [
       "       Dielectric Constant  Dielectric Height (mm)  \\\n",
       "count          1669.000000             1669.000000   \n",
       "mean              0.566438                4.415129   \n",
       "std               0.267249                2.676170   \n",
       "min               0.001000                0.010000   \n",
       "25%               0.374000                2.090000   \n",
       "50%               0.583000                4.180000   \n",
       "75%               0.791000                6.920000   \n",
       "max               1.000000                9.000000   \n",
       "\n",
       "       Operational Frequency (GHz)   Width (mm)   length(mm)  \n",
       "count                  1669.000000  1669.000000  1648.000000  \n",
       "mean                      2.750869    62.550222    71.354630  \n",
       "std                       0.171695     7.022016    76.797122  \n",
       "min                       2.500000    45.330000     2.800000  \n",
       "25%                       2.600000    57.310000    52.900000  \n",
       "50%                       2.800000    61.680000    58.125000  \n",
       "75%                       2.900000    66.870000    65.062500  \n",
       "max                       3.000000    84.370000  2177.000000  "
      ]
     },
     "execution_count": 10,
     "metadata": {},
     "output_type": "execute_result"
    }
   ],
   "source": [
    "df.describe()"
   ]
  },
  {
   "cell_type": "code",
   "execution_count": 11,
   "id": "1f1eed42",
   "metadata": {},
   "outputs": [
    {
     "data": {
      "text/plain": [
       "(1669, 5)"
      ]
     },
     "execution_count": 11,
     "metadata": {},
     "output_type": "execute_result"
    }
   ],
   "source": [
    "df.shape"
   ]
  },
  {
   "cell_type": "code",
   "execution_count": 12,
   "id": "ab8d3590",
   "metadata": {},
   "outputs": [
    {
     "data": {
      "text/plain": [
       "Dielectric Constant             0\n",
       "Dielectric Height (mm)          0\n",
       "Operational Frequency (GHz)     0\n",
       "Width (mm)                      0\n",
       "length(mm)                     21\n",
       "dtype: int64"
      ]
     },
     "execution_count": 12,
     "metadata": {},
     "output_type": "execute_result"
    }
   ],
   "source": [
    "df.isnull().sum()"
   ]
  },
  {
   "cell_type": "code",
   "execution_count": 13,
   "id": "7733fe38",
   "metadata": {},
   "outputs": [
    {
     "data": {
      "text/plain": [
       "['length(mm)']"
      ]
     },
     "execution_count": 13,
     "metadata": {},
     "output_type": "execute_result"
    }
   ],
   "source": [
    "[features for features in df.columns if df[features].isnull().sum()>0]"
   ]
  },
  {
   "cell_type": "code",
   "execution_count": 14,
   "id": "a6cc6f36",
   "metadata": {},
   "outputs": [
    {
     "data": {
      "text/plain": [
       "Index(['Dielectric Constant', 'Dielectric Height (mm)',\n",
       "       'Operational Frequency (GHz)', 'Width (mm)', 'length(mm)'],\n",
       "      dtype='object')"
      ]
     },
     "execution_count": 14,
     "metadata": {},
     "output_type": "execute_result"
    }
   ],
   "source": [
    "df.columns"
   ]
  },
  {
   "cell_type": "code",
   "execution_count": 15,
   "id": "fc9f076b",
   "metadata": {},
   "outputs": [
    {
     "data": {
      "text/plain": [
       "Dielectric Constant            float64\n",
       "Dielectric Height (mm)         float64\n",
       "Operational Frequency (GHz)    float64\n",
       "Width (mm)                     float64\n",
       "length(mm)                     float64\n",
       "dtype: object"
      ]
     },
     "execution_count": 15,
     "metadata": {},
     "output_type": "execute_result"
    }
   ],
   "source": [
    "## check data type \n",
    "df.dtypes"
   ]
  },
  {
   "cell_type": "code",
   "execution_count": 29,
   "id": "48b07461",
   "metadata": {},
   "outputs": [],
   "source": [
    "# Making a list of missing value types\n",
    "missing_values = [\"n/a\", \"na\", \"missing\"]\n",
    "df = pd.read_csv(\"test.csv\", na_values = missing_values)"
   ]
  },
  {
   "cell_type": "code",
   "execution_count": 30,
   "id": "fa9ad306",
   "metadata": {},
   "outputs": [
    {
     "data": {
      "text/html": [
       "<div>\n",
       "<style scoped>\n",
       "    .dataframe tbody tr th:only-of-type {\n",
       "        vertical-align: middle;\n",
       "    }\n",
       "\n",
       "    .dataframe tbody tr th {\n",
       "        vertical-align: top;\n",
       "    }\n",
       "\n",
       "    .dataframe thead th {\n",
       "        text-align: right;\n",
       "    }\n",
       "</style>\n",
       "<table border=\"1\" class=\"dataframe\">\n",
       "  <thead>\n",
       "    <tr style=\"text-align: right;\">\n",
       "      <th></th>\n",
       "      <th>Dielectric Constant</th>\n",
       "      <th>Dielectric Height (mm)</th>\n",
       "      <th>Operational Frequency (GHz)</th>\n",
       "      <th>Width (mm)</th>\n",
       "      <th>length(mm)</th>\n",
       "    </tr>\n",
       "  </thead>\n",
       "  <tbody>\n",
       "    <tr>\n",
       "      <th>0</th>\n",
       "      <td>0.331</td>\n",
       "      <td>6.31</td>\n",
       "      <td>2.9</td>\n",
       "      <td>63.36</td>\n",
       "      <td>57.83</td>\n",
       "    </tr>\n",
       "    <tr>\n",
       "      <th>1</th>\n",
       "      <td>0.332</td>\n",
       "      <td>6.32</td>\n",
       "      <td>2.9</td>\n",
       "      <td>63.34</td>\n",
       "      <td>57.79</td>\n",
       "    </tr>\n",
       "    <tr>\n",
       "      <th>2</th>\n",
       "      <td>0.333</td>\n",
       "      <td>6.33</td>\n",
       "      <td>2.9</td>\n",
       "      <td>63.31</td>\n",
       "      <td>57.76</td>\n",
       "    </tr>\n",
       "    <tr>\n",
       "      <th>3</th>\n",
       "      <td>0.334</td>\n",
       "      <td>6.34</td>\n",
       "      <td>2.9</td>\n",
       "      <td>63.29</td>\n",
       "      <td>57.72</td>\n",
       "    </tr>\n",
       "    <tr>\n",
       "      <th>4</th>\n",
       "      <td>0.335</td>\n",
       "      <td>6.35</td>\n",
       "      <td>2.9</td>\n",
       "      <td>63.27</td>\n",
       "      <td>57.69</td>\n",
       "    </tr>\n",
       "  </tbody>\n",
       "</table>\n",
       "</div>"
      ],
      "text/plain": [
       "   Dielectric Constant  Dielectric Height (mm)  Operational Frequency (GHz)  \\\n",
       "0                0.331                    6.31                          2.9   \n",
       "1                0.332                    6.32                          2.9   \n",
       "2                0.333                    6.33                          2.9   \n",
       "3                0.334                    6.34                          2.9   \n",
       "4                0.335                    6.35                          2.9   \n",
       "\n",
       "   Width (mm)  length(mm)  \n",
       "0       63.36       57.83  \n",
       "1       63.34       57.79  \n",
       "2       63.31       57.76  \n",
       "3       63.29       57.72  \n",
       "4       63.27       57.69  "
      ]
     },
     "execution_count": 30,
     "metadata": {},
     "output_type": "execute_result"
    }
   ],
   "source": [
    "df.replace(\" \", np.nan, inplace = True)\n",
    "\n",
    "#Check your data \n",
    "df.head()"
   ]
  },
  {
   "cell_type": "code",
   "execution_count": 32,
   "id": "59762c33",
   "metadata": {},
   "outputs": [
    {
     "data": {
      "text/html": [
       "<div>\n",
       "<style scoped>\n",
       "    .dataframe tbody tr th:only-of-type {\n",
       "        vertical-align: middle;\n",
       "    }\n",
       "\n",
       "    .dataframe tbody tr th {\n",
       "        vertical-align: top;\n",
       "    }\n",
       "\n",
       "    .dataframe thead th {\n",
       "        text-align: right;\n",
       "    }\n",
       "</style>\n",
       "<table border=\"1\" class=\"dataframe\">\n",
       "  <thead>\n",
       "    <tr style=\"text-align: right;\">\n",
       "      <th></th>\n",
       "      <th>Dielectric Constant</th>\n",
       "      <th>Dielectric Height (mm)</th>\n",
       "      <th>Operational Frequency (GHz)</th>\n",
       "      <th>Width (mm)</th>\n",
       "      <th>length(mm)</th>\n",
       "    </tr>\n",
       "  </thead>\n",
       "  <tbody>\n",
       "    <tr>\n",
       "      <th>0</th>\n",
       "      <td>False</td>\n",
       "      <td>False</td>\n",
       "      <td>False</td>\n",
       "      <td>False</td>\n",
       "      <td>False</td>\n",
       "    </tr>\n",
       "    <tr>\n",
       "      <th>1</th>\n",
       "      <td>False</td>\n",
       "      <td>False</td>\n",
       "      <td>False</td>\n",
       "      <td>False</td>\n",
       "      <td>False</td>\n",
       "    </tr>\n",
       "    <tr>\n",
       "      <th>2</th>\n",
       "      <td>False</td>\n",
       "      <td>False</td>\n",
       "      <td>False</td>\n",
       "      <td>False</td>\n",
       "      <td>False</td>\n",
       "    </tr>\n",
       "    <tr>\n",
       "      <th>3</th>\n",
       "      <td>False</td>\n",
       "      <td>False</td>\n",
       "      <td>False</td>\n",
       "      <td>False</td>\n",
       "      <td>False</td>\n",
       "    </tr>\n",
       "    <tr>\n",
       "      <th>4</th>\n",
       "      <td>False</td>\n",
       "      <td>False</td>\n",
       "      <td>False</td>\n",
       "      <td>False</td>\n",
       "      <td>False</td>\n",
       "    </tr>\n",
       "  </tbody>\n",
       "</table>\n",
       "</div>"
      ],
      "text/plain": [
       "   Dielectric Constant  Dielectric Height (mm)  Operational Frequency (GHz)  \\\n",
       "0                False                   False                        False   \n",
       "1                False                   False                        False   \n",
       "2                False                   False                        False   \n",
       "3                False                   False                        False   \n",
       "4                False                   False                        False   \n",
       "\n",
       "   Width (mm)  length(mm)  \n",
       "0       False       False  \n",
       "1       False       False  \n",
       "2       False       False  \n",
       "3       False       False  \n",
       "4       False       False  "
      ]
     },
     "execution_count": 32,
     "metadata": {},
     "output_type": "execute_result"
    }
   ],
   "source": [
    "#Look at your missing data \n",
    "missing_data = df.isnull()\n",
    "missing_data.head()"
   ]
  },
  {
   "cell_type": "code",
   "execution_count": 19,
   "id": "2d5b4cdb",
   "metadata": {
    "scrolled": true
   },
   "outputs": [
    {
     "name": "stdout",
     "output_type": "stream",
     "text": [
      "Dielectric Constant\n",
      "False    1669\n",
      "Name: Dielectric Constant, dtype: int64\n",
      "\n",
      "Dielectric Height (mm)\n",
      "False    1669\n",
      "Name: Dielectric Height (mm), dtype: int64\n",
      "\n",
      "Operational Frequency (GHz)\n",
      "False    1669\n",
      "Name: Operational Frequency (GHz), dtype: int64\n",
      "\n",
      "Width (mm)\n",
      "False    1669\n",
      "Name: Width (mm), dtype: int64\n",
      "\n",
      "length(mm)\n",
      "False    1648\n",
      "True       21\n",
      "Name: length(mm), dtype: int64\n",
      "\n"
     ]
    }
   ],
   "source": [
    "#Using a for loop in Python to figure out the number of missing values in each column\n",
    "for column in missing_data.columns.values.tolist(): \n",
    "    print(column)\n",
    "    print(missing_data[column].value_counts())\n",
    "    print(\"\") "
   ]
  },
  {
   "cell_type": "code",
   "execution_count": 33,
   "id": "ee933ab1",
   "metadata": {
    "scrolled": true
   },
   "outputs": [
    {
     "data": {
      "text/plain": [
       "Dielectric Constant  Width (mm)  Operational Frequency (GHz)  length(mm)  Dielectric Height (mm)\n",
       "0.001                70.63       3.0                          156.50      4.01                      1\n",
       "0.002                70.59       3.0                          155.90      4.02                      1\n",
       "0.003                70.56       3.0                          155.30      4.03                      1\n",
       "0.004                70.52       3.0                          154.80      4.04                      1\n",
       "0.005                70.49       3.0                          154.20      4.05                      1\n",
       "                                                                                                   ..\n",
       "0.998                51.71       2.9                          44.88       4.98                      1\n",
       "                                                              46.20       3.98                      1\n",
       "0.999                51.70       2.9                          44.85       4.99                      1\n",
       "                                                              46.17       3.99                      1\n",
       "1.000                49.97       3.0                          44.42       4.00                      1\n",
       "Length: 1648, dtype: int64"
      ]
     },
     "execution_count": 33,
     "metadata": {},
     "output_type": "execute_result"
    }
   ],
   "source": [
    "df.groupby(['Dielectric Constant','Width (mm)','Operational Frequency (GHz)','length(mm)','Dielectric Height (mm)']).size()"
   ]
  },
  {
   "cell_type": "code",
   "execution_count": 34,
   "id": "7191f16e",
   "metadata": {},
   "outputs": [
    {
     "data": {
      "text/plain": [
       "['length(mm)']"
      ]
     },
     "execution_count": 34,
     "metadata": {},
     "output_type": "execute_result"
    }
   ],
   "source": [
    "[features for features in df.columns if df[features].isnull().sum()>0]"
   ]
  },
  {
   "cell_type": "code",
   "execution_count": 37,
   "id": "4dcf78fd",
   "metadata": {},
   "outputs": [
    {
     "name": "stdout",
     "output_type": "stream",
     "text": [
      "Average of length(mm): 71.35463046116504\n"
     ]
    }
   ],
   "source": [
    "avg_value = df[\"length(mm)\"].astype(\"float\").mean(axis=0)\n",
    "print(\"Average of length(mm):\", avg_value)"
   ]
  },
  {
   "cell_type": "code",
   "execution_count": 39,
   "id": "078debf9",
   "metadata": {},
   "outputs": [],
   "source": [
    "df[\"length(mm)\"].replace(np.nan, avg_value, inplace = True)"
   ]
  },
  {
   "cell_type": "code",
   "execution_count": 40,
   "id": "f586962a",
   "metadata": {},
   "outputs": [
    {
     "data": {
      "text/plain": [
       "[]"
      ]
     },
     "execution_count": 40,
     "metadata": {},
     "output_type": "execute_result"
    }
   ],
   "source": [
    "[features for features in df.columns if df[features].isnull().sum()>0]"
   ]
  },
  {
   "cell_type": "code",
   "execution_count": null,
   "id": "6d9318c4",
   "metadata": {},
   "outputs": [],
   "source": []
  }
 ],
 "metadata": {
  "kernelspec": {
   "display_name": "Python 3 (ipykernel)",
   "language": "python",
   "name": "python3"
  },
  "language_info": {
   "codemirror_mode": {
    "name": "ipython",
    "version": 3
   },
   "file_extension": ".py",
   "mimetype": "text/x-python",
   "name": "python",
   "nbconvert_exporter": "python",
   "pygments_lexer": "ipython3",
   "version": "3.10.9"
  }
 },
 "nbformat": 4,
 "nbformat_minor": 5
}
