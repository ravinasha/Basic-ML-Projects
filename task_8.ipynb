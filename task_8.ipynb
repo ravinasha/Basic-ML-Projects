{
  "cells": [
    {
      "cell_type": "markdown",
      "id": "7ec2b872",
      "metadata": {
        "id": "7ec2b872"
      },
      "source": [
        "# Task 3: Build a Basic Neural Network for Classification**\n",
        "\n",
        "**Purpose:** The purpose of this task is to build a simple neural network for a classification task using a suitable dataset. We will normalize the data, define the neural network architecture, choose activation functions, a loss function, an optimizer, train the model, and evaluate its performance.\n",
        "\n",
        "**Dataset Selection:**\n",
        "It appears that you are working with a dataset named 'abcdef.csv' for a classification task. However, to provide further guidance, I'll assume you are using a toy dataset.\n",
        "\n",
        "**Data Normalization:**\n",
        "Normalizing the data is essential to ensure consistent scaling across features. This is a critical step to improve model training. In your code, you have loaded and split the data, but you haven't shown the normalization step.\n",
        "\n",
        "**Model Architecture:**\n",
        "Your code includes three different neural network architectures defined using TensorFlow/Keras. Each of them has a simple architecture with one or more hidden layers. This is appropriate for a basic classification task.\n",
        "\n",
        "**Activation Functions:**\n",
        "You have used 'relu' activation functions for hidden layers and 'sigmoid' activation for the output layer in your code. These choices are suitable for classification problems.\n",
        "\n",
        "**Loss Function and Optimizer:**\n",
        "You've used 'binary_crossentropy' as the loss function, which is appropriate for binary classification tasks. You've also used the 'adam' optimizer, which is a popular choice.\n",
        "\n",
        "**Model Training:**\n",
        "You've trained each of the three models using training data. Training neural networks involves optimizing the model's parameters to minimize the loss function.\n",
        "\n",
        "**Model Evaluation:**\n",
        "You've evaluated each model using test data and printed test loss and accuracy.\n",
        "\n",
        "**Documentation:**\n",
        "- Purpose: Build a basic neural network for a classification task.\n",
        "- Dataset Used: Please specify the dataset you used (MNIST, toy dataset, or another dataset).\n",
        "- Neural Network Architecture: You have defined multiple architectures with different hidden layers.\n",
        "- Evaluation Results: Include the accuracy and loss values on the test data for each model.\n",
        "\n",
        "Please note that you might want to provide more specific information about the dataset you are using and the actual results and observations you obtained from running these models."
      ]
    },
    {
      "cell_type": "code",
      "execution_count": null,
      "id": "f76f599b",
      "metadata": {
        "id": "f76f599b"
      },
      "outputs": [],
      "source": [
        "import numpy as np\n",
        "import pandas as pd\n",
        "import matplotlib.pyplot as plt\n",
        "from sklearn.model_selection import train_test_split\n",
        "\n"
      ]
    },
    {
      "cell_type": "code",
      "execution_count": null,
      "id": "a9eb5b5c",
      "metadata": {
        "id": "a9eb5b5c"
      },
      "outputs": [],
      "source": []
    },
    {
      "cell_type": "code",
      "execution_count": null,
      "id": "d4b38073",
      "metadata": {
        "id": "d4b38073",
        "outputId": "b230f10e-c456-4cb8-86f1-c4b37e7735b4"
      },
      "outputs": [
        {
          "data": {
            "text/html": [
              "<div>\n",
              "<style scoped>\n",
              "    .dataframe tbody tr th:only-of-type {\n",
              "        vertical-align: middle;\n",
              "    }\n",
              "\n",
              "    .dataframe tbody tr th {\n",
              "        vertical-align: top;\n",
              "    }\n",
              "\n",
              "    .dataframe thead th {\n",
              "        text-align: right;\n",
              "    }\n",
              "</style>\n",
              "<table border=\"1\" class=\"dataframe\">\n",
              "  <thead>\n",
              "    <tr style=\"text-align: right;\">\n",
              "      <th></th>\n",
              "      <th>heght</th>\n",
              "      <th>wight</th>\n",
              "      <th>length</th>\n",
              "      <th>acc</th>\n",
              "      <th>abc</th>\n",
              "      <th>cvs</th>\n",
              "      <th>ss</th>\n",
              "      <th>aa</th>\n",
              "    </tr>\n",
              "  </thead>\n",
              "  <tbody>\n",
              "    <tr>\n",
              "      <th>0</th>\n",
              "      <td>0.455</td>\n",
              "      <td>0.365</td>\n",
              "      <td>0.095</td>\n",
              "      <td>0.5140</td>\n",
              "      <td>0.2245</td>\n",
              "      <td>0.1010</td>\n",
              "      <td>0.150</td>\n",
              "      <td>15</td>\n",
              "    </tr>\n",
              "    <tr>\n",
              "      <th>1</th>\n",
              "      <td>0.350</td>\n",
              "      <td>0.265</td>\n",
              "      <td>0.090</td>\n",
              "      <td>0.2255</td>\n",
              "      <td>0.0995</td>\n",
              "      <td>0.0485</td>\n",
              "      <td>0.070</td>\n",
              "      <td>7</td>\n",
              "    </tr>\n",
              "    <tr>\n",
              "      <th>2</th>\n",
              "      <td>0.530</td>\n",
              "      <td>0.420</td>\n",
              "      <td>0.135</td>\n",
              "      <td>0.6770</td>\n",
              "      <td>0.2565</td>\n",
              "      <td>0.1415</td>\n",
              "      <td>0.210</td>\n",
              "      <td>9</td>\n",
              "    </tr>\n",
              "    <tr>\n",
              "      <th>3</th>\n",
              "      <td>0.440</td>\n",
              "      <td>0.365</td>\n",
              "      <td>0.125</td>\n",
              "      <td>0.5160</td>\n",
              "      <td>0.2155</td>\n",
              "      <td>0.1140</td>\n",
              "      <td>0.155</td>\n",
              "      <td>10</td>\n",
              "    </tr>\n",
              "    <tr>\n",
              "      <th>4</th>\n",
              "      <td>0.330</td>\n",
              "      <td>0.255</td>\n",
              "      <td>0.080</td>\n",
              "      <td>0.2050</td>\n",
              "      <td>0.0895</td>\n",
              "      <td>0.0395</td>\n",
              "      <td>0.055</td>\n",
              "      <td>7</td>\n",
              "    </tr>\n",
              "  </tbody>\n",
              "</table>\n",
              "</div>"
            ],
            "text/plain": [
              "   heght  wight  length     acc     abc     cvs     ss  aa\n",
              "0  0.455  0.365   0.095  0.5140  0.2245  0.1010  0.150  15\n",
              "1  0.350  0.265   0.090  0.2255  0.0995  0.0485  0.070   7\n",
              "2  0.530  0.420   0.135  0.6770  0.2565  0.1415  0.210   9\n",
              "3  0.440  0.365   0.125  0.5160  0.2155  0.1140  0.155  10\n",
              "4  0.330  0.255   0.080  0.2050  0.0895  0.0395  0.055   7"
            ]
          },
          "execution_count": 14,
          "metadata": {},
          "output_type": "execute_result"
        }
      ],
      "source": [
        "df = pd.read_csv('abcdef.csv')\n",
        "df.head()"
      ]
    },
    {
      "cell_type": "code",
      "execution_count": null,
      "id": "87244417",
      "metadata": {
        "id": "87244417"
      },
      "outputs": [],
      "source": []
    },
    {
      "cell_type": "code",
      "execution_count": null,
      "id": "c2a4bf19",
      "metadata": {
        "id": "c2a4bf19"
      },
      "outputs": [],
      "source": [
        "import numpy as np\n",
        "from tensorflow import keras\n",
        "from tensorflow.keras.models import Sequential\n",
        "from tensorflow.keras.layers import Dense"
      ]
    },
    {
      "cell_type": "code",
      "execution_count": null,
      "id": "2d67bb7b",
      "metadata": {
        "id": "2d67bb7b"
      },
      "outputs": [],
      "source": [
        "X=df.drop('wight',axis=1)\n",
        "y=df['wight']"
      ]
    },
    {
      "cell_type": "code",
      "execution_count": null,
      "id": "957d47ec",
      "metadata": {
        "id": "957d47ec"
      },
      "outputs": [],
      "source": [
        "from sklearn.model_selection import train_test_split\n",
        "\n",
        "X_train, X_test, y_train, y_test = train_test_split(X, y, test_size=0.2, random_state=42)\n"
      ]
    },
    {
      "cell_type": "code",
      "execution_count": null,
      "id": "c9da988d",
      "metadata": {
        "id": "c9da988d"
      },
      "outputs": [],
      "source": [
        "import tensorflow as tf\n",
        "\n",
        "model = tf.keras.Sequential([\n",
        "    tf.keras.layers.Dense(16, input_shape=(X_train.shape[1],), activation='relu'),\n",
        "    tf.keras.layers.Dense(8, activation='relu'),\n",
        "    tf.keras.layers.Dense(1)\n",
        "])\n"
      ]
    },
    {
      "cell_type": "code",
      "execution_count": null,
      "id": "10dc0b4f",
      "metadata": {
        "id": "10dc0b4f",
        "outputId": "21f99f8a-e1b2-487a-f69b-d20811b83e24"
      },
      "outputs": [
        {
          "data": {
            "text/plain": [
              "0.450    139\n",
              "0.475    120\n",
              "0.400    111\n",
              "0.500    110\n",
              "0.470    100\n",
              "        ... \n",
              "0.610      1\n",
              "0.650      1\n",
              "0.620      1\n",
              "0.095      1\n",
              "0.615      1\n",
              "Name: wight, Length: 111, dtype: int64"
            ]
          },
          "execution_count": 22,
          "metadata": {},
          "output_type": "execute_result"
        }
      ],
      "source": [
        "df['wight'].value_counts()\n"
      ]
    },
    {
      "cell_type": "code",
      "execution_count": null,
      "id": "544f995e",
      "metadata": {
        "id": "544f995e"
      },
      "outputs": [],
      "source": [
        "y = df['wight']"
      ]
    },
    {
      "cell_type": "code",
      "execution_count": null,
      "id": "93a3b3b7",
      "metadata": {
        "id": "93a3b3b7"
      },
      "outputs": [],
      "source": [
        "X = df.copy()\n",
        "X = X.drop('wight', axis=1)\n",
        "\n"
      ]
    },
    {
      "cell_type": "code",
      "execution_count": null,
      "id": "54b9dc29",
      "metadata": {
        "id": "54b9dc29"
      },
      "outputs": [],
      "source": [
        "X_train, X_test, y_train, y_test = train_test_split(X, y, test_size=0.25, random_state=60)\n"
      ]
    },
    {
      "cell_type": "code",
      "execution_count": null,
      "id": "f320697d",
      "metadata": {
        "id": "f320697d"
      },
      "outputs": [],
      "source": [
        "model.compile(optimizer='adam',loss='binary_crossentropy',metrics = ['accuracy'])\n"
      ]
    },
    {
      "cell_type": "code",
      "execution_count": null,
      "id": "8dddd355",
      "metadata": {
        "id": "8dddd355",
        "outputId": "532f0de2-bd86-4fe5-9989-07ce4edfc46f"
      },
      "outputs": [
        {
          "name": "stdout",
          "output_type": "stream",
          "text": [
            "Epoch 1/5\n",
            "79/79 [==============================] - 1s 7ms/step - loss: 6.3030 - accuracy: 0.0000e+00 - val_loss: 6.2952 - val_accuracy: 0.0000e+00\n",
            "Epoch 2/5\n",
            "79/79 [==============================] - 0s 3ms/step - loss: 6.3030 - accuracy: 0.0000e+00 - val_loss: 6.2952 - val_accuracy: 0.0000e+00\n",
            "Epoch 3/5\n",
            "79/79 [==============================] - 0s 2ms/step - loss: 6.3030 - accuracy: 0.0000e+00 - val_loss: 6.2952 - val_accuracy: 0.0000e+00\n",
            "Epoch 4/5\n",
            "79/79 [==============================] - 0s 2ms/step - loss: 6.3030 - accuracy: 0.0000e+00 - val_loss: 6.2952 - val_accuracy: 0.0000e+00\n",
            "Epoch 5/5\n",
            "79/79 [==============================] - 0s 2ms/step - loss: 6.3030 - accuracy: 0.0000e+00 - val_loss: 6.2952 - val_accuracy: 0.0000e+00\n"
          ]
        }
      ],
      "source": [
        "history = model.fit(X_train, y_train, epochs=5, batch_size=32, validation_split=0.2)"
      ]
    },
    {
      "cell_type": "code",
      "execution_count": null,
      "id": "97c314f1",
      "metadata": {
        "id": "97c314f1",
        "outputId": "4654342e-0f65-42d3-8a07-32219557febe"
      },
      "outputs": [
        {
          "name": "stdout",
          "output_type": "stream",
          "text": [
            "33/33 [==============================] - 0s 1ms/step - loss: 6.2620 - accuracy: 0.0000e+00\n"
          ]
        }
      ],
      "source": [
        "loss, mse = model.evaluate(X_test, y_test)\n"
      ]
    },
    {
      "cell_type": "code",
      "execution_count": null,
      "id": "6705622b",
      "metadata": {
        "scrolled": true,
        "id": "6705622b",
        "outputId": "aba9aa6d-b26a-48e1-df4a-aafbf3ca838e"
      },
      "outputs": [
        {
          "name": "stdout",
          "output_type": "stream",
          "text": [
            "33/33 [==============================] - 0s 1ms/step\n"
          ]
        }
      ],
      "source": [
        "predictions = model.predict(X_test)"
      ]
    },
    {
      "cell_type": "code",
      "execution_count": null,
      "id": "6662f15f",
      "metadata": {
        "id": "6662f15f",
        "outputId": "c88dc047-9572-4f4f-a173-ae7d48ebad3c"
      },
      "outputs": [
        {
          "name": "stdout",
          "output_type": "stream",
          "text": [
            "Model: \"sequential\"\n",
            "_________________________________________________________________\n",
            " Layer (type)                Output Shape              Param #   \n",
            "=================================================================\n",
            " dense (Dense)               (None, 16)                128       \n",
            "                                                                 \n",
            " dense_1 (Dense)             (None, 8)                 136       \n",
            "                                                                 \n",
            " dense_2 (Dense)             (None, 1)                 9         \n",
            "                                                                 \n",
            "=================================================================\n",
            "Total params: 273\n",
            "Trainable params: 273\n",
            "Non-trainable params: 0\n",
            "_________________________________________________________________\n",
            "None\n"
          ]
        }
      ],
      "source": [
        "print(model.summary())\n"
      ]
    },
    {
      "cell_type": "code",
      "execution_count": null,
      "id": "ce0890c7",
      "metadata": {
        "id": "ce0890c7",
        "outputId": "dd84c926-58e7-4203-80e1-cf85084d9e76"
      },
      "outputs": [
        {
          "name": "stdout",
          "output_type": "stream",
          "text": [
            "Epoch 1/5\n",
            "79/79 [==============================] - 1s 3ms/step - loss: 1.8697 - val_loss: 0.0077\n",
            "Epoch 2/5\n",
            "79/79 [==============================] - 0s 2ms/step - loss: 0.0063 - val_loss: 0.0056\n",
            "Epoch 3/5\n",
            "79/79 [==============================] - 0s 2ms/step - loss: 0.0053 - val_loss: 0.0051\n",
            "Epoch 4/5\n",
            "79/79 [==============================] - 0s 2ms/step - loss: 0.0047 - val_loss: 0.0043\n",
            "Epoch 5/5\n",
            "79/79 [==============================] - 0s 2ms/step - loss: 0.0037 - val_loss: 0.0028\n",
            "Model: \"sequential_1\"\n",
            "_________________________________________________________________\n",
            " Layer (type)                Output Shape              Param #   \n",
            "=================================================================\n",
            " dense_3 (Dense)             (None, 16)                128       \n",
            "                                                                 \n",
            " dense_4 (Dense)             (None, 8)                 136       \n",
            "                                                                 \n",
            " dense_5 (Dense)             (None, 1)                 9         \n",
            "                                                                 \n",
            "=================================================================\n",
            "Total params: 273\n",
            "Trainable params: 273\n",
            "Non-trainable params: 0\n",
            "_________________________________________________________________\n",
            "None\n"
          ]
        }
      ],
      "source": [
        "import tensorflow as tf\n",
        "\n",
        "# Define and compile your model\n",
        "model = tf.keras.Sequential([\n",
        "    tf.keras.layers.Dense(16, input_shape=(X_train.shape[1],), activation='relu'),\n",
        "    tf.keras.layers.Dense(8, activation='relu'),\n",
        "    tf.keras.layers.Dense(1)\n",
        "])\n",
        "\n",
        "model.compile(optimizer='adam', loss='mse')\n",
        "\n",
        "# Train your model\n",
        "model.fit(X_train, y_train, epochs=5, batch_size=32, validation_split=0.2)\n",
        "\n",
        "# Print the model summary\n",
        "print(model.summary())\n"
      ]
    },
    {
      "cell_type": "code",
      "execution_count": null,
      "id": "8ef4ff6d",
      "metadata": {
        "id": "8ef4ff6d",
        "outputId": "28a985b5-41a1-4929-8a8e-37553a2ef17d"
      },
      "outputs": [
        {
          "data": {
            "text/plain": [
              "(3132, 1)"
            ]
          },
          "execution_count": 32,
          "metadata": {},
          "output_type": "execute_result"
        }
      ],
      "source": [
        "y_train=np.expand_dims (y_train,axis=1)\n",
        "y_train.shape\n"
      ]
    },
    {
      "cell_type": "code",
      "execution_count": null,
      "id": "3c00b831",
      "metadata": {
        "id": "3c00b831"
      },
      "outputs": [],
      "source": [
        "from sklearn.model_selection import train_test_split\n",
        "x_train,x_test,y_train,y_test = train_test_split(X,y ,test_size=0.2)"
      ]
    },
    {
      "cell_type": "code",
      "execution_count": null,
      "id": "e4986720",
      "metadata": {
        "id": "e4986720"
      },
      "outputs": [],
      "source": [
        "from keras.models import Sequential\n",
        "from keras.layers import Dense\n",
        "model = Sequential()\n",
        "model.add(Dense(64, activation='relu', input_dim=x_train.shape[1]))\n",
        "model.add(Dense(32, activation='relu'))\n",
        "model.add(Dense(1, activation='sigmoid'))\n",
        "model.compile(optimizer='adam', loss='binary_crossentropy', metrics=['accuracy'])"
      ]
    },
    {
      "cell_type": "code",
      "execution_count": null,
      "id": "b0efc43d",
      "metadata": {
        "id": "b0efc43d",
        "outputId": "0c8b60b8-66a1-4cf9-d741-5a0cae955735"
      },
      "outputs": [
        {
          "name": "stdout",
          "output_type": "stream",
          "text": [
            "Epoch 1/5\n",
            "74/74 [==============================] - 1s 3ms/step - loss: 0.7058 - accuracy: 0.0000e+00 - val_loss: 0.6799 - val_accuracy: 0.0000e+00\n",
            "Epoch 2/5\n",
            "74/74 [==============================] - 0s 2ms/step - loss: 0.6740 - accuracy: 0.0000e+00 - val_loss: 0.6675 - val_accuracy: 0.0000e+00\n",
            "Epoch 3/5\n",
            "74/74 [==============================] - 0s 2ms/step - loss: 0.6648 - accuracy: 0.0000e+00 - val_loss: 0.6610 - val_accuracy: 0.0000e+00\n",
            "Epoch 4/5\n",
            "74/74 [==============================] - 0s 2ms/step - loss: 0.6604 - accuracy: 0.0000e+00 - val_loss: 0.6582 - val_accuracy: 0.0000e+00\n",
            "Epoch 5/5\n",
            "74/74 [==============================] - 0s 2ms/step - loss: 0.6583 - accuracy: 0.0000e+00 - val_loss: 0.6570 - val_accuracy: 0.0000e+00\n"
          ]
        }
      ],
      "source": [
        "history = model.fit(x_train, y_train, epochs=5, batch_size=32, validation_split=0.3)"
      ]
    },
    {
      "cell_type": "code",
      "execution_count": null,
      "id": "53fc0095",
      "metadata": {
        "scrolled": true,
        "id": "53fc0095",
        "outputId": "fdf59ce0-4200-414d-eed0-2843506f8a19"
      },
      "outputs": [
        {
          "name": "stdout",
          "output_type": "stream",
          "text": [
            "27/27 [==============================] - 0s 2ms/step - loss: 0.6597 - accuracy: 0.0000e+00\n",
            "Test loss: 0.6596757769584656\n",
            "Test accuracy: 0.0\n"
          ]
        }
      ],
      "source": [
        "score = model.evaluate(x_test, y_test)\n",
        "print('Test loss:', score[0])\n",
        "print('Test accuracy:', score[1])\n"
      ]
    },
    {
      "cell_type": "markdown",
      "id": "fa27ac5b",
      "metadata": {
        "id": "fa27ac5b"
      },
      "source": []
    },
    {
      "cell_type": "code",
      "execution_count": null,
      "id": "7bb78034",
      "metadata": {
        "id": "7bb78034"
      },
      "outputs": [],
      "source": []
    },
    {
      "cell_type": "code",
      "execution_count": null,
      "id": "4597a311",
      "metadata": {
        "id": "4597a311"
      },
      "outputs": [],
      "source": []
    },
    {
      "cell_type": "code",
      "execution_count": null,
      "id": "2de705dd",
      "metadata": {
        "id": "2de705dd"
      },
      "outputs": [],
      "source": []
    },
    {
      "cell_type": "code",
      "execution_count": null,
      "id": "3e14fb7f",
      "metadata": {
        "id": "3e14fb7f"
      },
      "outputs": [],
      "source": []
    },
    {
      "cell_type": "code",
      "execution_count": null,
      "id": "24ca207a",
      "metadata": {
        "id": "24ca207a"
      },
      "outputs": [],
      "source": []
    },
    {
      "cell_type": "code",
      "execution_count": null,
      "id": "9c2222b1",
      "metadata": {
        "id": "9c2222b1"
      },
      "outputs": [],
      "source": []
    }
  ],
  "metadata": {
    "kernelspec": {
      "display_name": "Python 3 (ipykernel)",
      "language": "python",
      "name": "python3"
    },
    "language_info": {
      "codemirror_mode": {
        "name": "ipython",
        "version": 3
      },
      "file_extension": ".py",
      "mimetype": "text/x-python",
      "name": "python",
      "nbconvert_exporter": "python",
      "pygments_lexer": "ipython3",
      "version": "3.10.11"
    },
    "colab": {
      "provenance": []
    }
  },
  "nbformat": 4,
  "nbformat_minor": 5
}